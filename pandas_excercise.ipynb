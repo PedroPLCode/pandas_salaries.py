{
 "cells": [
  {
   "cell_type": "code",
   "execution_count": 39,
   "id": "465dc342-511f-4d79-83bc-7fb81bc95747",
   "metadata": {},
   "outputs": [
    {
     "data": {
      "text/plain": [
       "<AxesSubplot:title={'center':'Prices in USD over time'}, xlabel='month'>"
      ]
     },
     "execution_count": 39,
     "metadata": {},
     "output_type": "execute_result"
    },
    {
     "data": {
      "image/png": "[encoded data removed]",
      "text/plain": [
       "<Figure size 432x288 with 1 Axes>"
      ]
     },
     "metadata": {
      "needs_background": "light"
     },
     "output_type": "display_data"
    }
   ],
   "source": [
    "import pandas as pd\n",
    "\n",
    "prices = [\n",
    "    (1, 2.12),\n",
    "    (2, 2.56),\n",
    "    (3, 3.10),\n",
    "    (4, 3.16),\n",
    "    (5, 3.58),\n",
    "    (6, 5.12),\n",
    "    (7, 5.16),\n",
    "    (8, 5.20),\n",
    "    (9, 4.12),\n",
    "    (10, 4.10),\n",
    "    (11, 3.65),\n",
    "    (12, 4.25),\n",
    "]\n",
    "\n",
    "df = pd.DataFrame(prices, columns=[\"month\", \"pricePLN\"])\n",
    "df = df.set_index(\"month\")\n",
    "\n",
    "df['priceUSD'] = df['pricePLN'] / 4\n",
    "\n",
    "months_list = df.index.tolist()\n",
    "price_usd_list = df['priceUSD'].tolist()\n",
    "\n",
    "df['priceUSD'].plot(kind='line', \n",
    "                    style='--', \n",
    "                    color='red', \n",
    "                    title='Prices in USD over time', \n",
    "                    grid=True, \n",
    "                    ylim=(0, 2)\n",
    "                    )"
   ]
  },
  {
   "cell_type": "code",
   "execution_count": null,
   "id": "e35e6add-d5a1-4dca-a43e-a9b90e4b517f",
   "metadata": {},
   "outputs": [],
   "source": []
  }
 ],
 "metadata": {
  "kernelspec": {
   "display_name": "Python 3",
   "language": "python",
   "name": "python3"
  },
  "language_info": {
   "codemirror_mode": {
    "name": "ipython",
    "version": 3
   },
   "file_extension": ".py",
   "mimetype": "text/x-python",
   "name": "python",
   "nbconvert_exporter": "python",
   "pygments_lexer": "ipython3",
   "version": "3.9.2"
  }
 },
 "nbformat": 4,
 "nbformat_minor": 5
}
